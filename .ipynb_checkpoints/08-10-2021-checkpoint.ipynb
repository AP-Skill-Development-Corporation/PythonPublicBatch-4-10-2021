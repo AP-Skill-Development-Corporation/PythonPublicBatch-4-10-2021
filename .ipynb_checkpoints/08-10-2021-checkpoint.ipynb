{
 "cells": [
  {
   "cell_type": "markdown",
   "metadata": {},
   "source": [
    "# Day objectives\n",
    "- while loop\n",
    "- functions"
   ]
  },
  {
   "cell_type": "markdown",
   "metadata": {},
   "source": [
    "## While\n",
    "- Syntax:\n",
    "```python\n",
    " initialize the counter\n",
    "    while condition:\n",
    "        statements\n",
    "        inc/dec counter\n",
    "```"
   ]
  },
  {
   "cell_type": "code",
   "execution_count": null,
   "metadata": {},
   "outputs": [],
   "source": [
    "if(conditon)\n",
    "{\n",
    "    statement1\n",
    "    statement3\n",
    "}\n",
    "for(i=1;i<5;i++)\n",
    "{\n",
    "        statement2\n",
    "    statement3\n",
    "            statement5\n",
    "}"
   ]
  },
  {
   "cell_type": "code",
   "execution_count": 1,
   "metadata": {},
   "outputs": [
    {
     "ename": "IndentationError",
     "evalue": "unexpected indent (<ipython-input-1-6a236b0f1b27>, line 3)",
     "output_type": "error",
     "traceback": [
      "\u001b[1;36m  File \u001b[1;32m\"<ipython-input-1-6a236b0f1b27>\"\u001b[1;36m, line \u001b[1;32m3\u001b[0m\n\u001b[1;33m    print(2)\u001b[0m\n\u001b[1;37m    ^\u001b[0m\n\u001b[1;31mIndentationError\u001b[0m\u001b[1;31m:\u001b[0m unexpected indent\n"
     ]
    }
   ],
   "source": [
    "if 1<2:\n",
    "    print(1)\n",
    "    print(2)"
   ]
  },
  {
   "cell_type": "code",
   "execution_count": 10,
   "metadata": {},
   "outputs": [
    {
     "name": "stdout",
     "output_type": "stream",
     "text": [
      "1-3-5-7-9-11-13-15-17-19-21-23-25-27-29-31-33-35-37-39-41-43-45-47-49-51-53-55-57-59-61-63-65-67-69-71-73-75-77-79-81-83-85-87-89-91-93-95-97-99-"
     ]
    }
   ],
   "source": [
    "# default starting range - 0\n",
    "# default inc/dec value - 1\n",
    "for i in range(1,100,2):\n",
    "    print(i,end=\"-\")"
   ]
  },
  {
   "cell_type": "code",
   "execution_count": 11,
   "metadata": {},
   "outputs": [
    {
     "name": "stdout",
     "output_type": "stream",
     "text": [
      "0 2 4 6 8 10 12 14 16 18 20 22 24 26 28 30 32 34 36 38 40 42 44 46 48 50 52 54 56 58 60 62 64 66 68 70 72 74 76 78 80 82 84 86 88 90 92 94 96 98 "
     ]
    }
   ],
   "source": [
    "# write a program to print all the even numbers below 100\n",
    "for i in range(100):\n",
    "    if i%2==0:\n",
    "        print(i,end=\" \")"
   ]
  },
  {
   "cell_type": "code",
   "execution_count": 13,
   "metadata": {},
   "outputs": [
    {
     "name": "stdout",
     "output_type": "stream",
     "text": [
      "2 4 6 8 10 12 14 16 18 20 22 24 26 28 30 32 34 36 38 40 42 44 46 48 50 52 54 56 58 60 62 64 66 68 70 72 74 76 78 80 82 84 86 88 90 92 94 96 98 "
     ]
    }
   ],
   "source": [
    "for i in range(2,100,2):\n",
    "    print(i,end=\" \")"
   ]
  },
  {
   "cell_type": "code",
   "execution_count": 4,
   "metadata": {},
   "outputs": [
    {
     "name": "stdout",
     "output_type": "stream",
     "text": [
      "1 3 5 7 9 11 13 15 17 19 21 23 25 27 29 31 33 35 37 39 41 43 45 47 49 51 53 55 57 59 61 63 65 67 69 71 73 75 77 79 81 83 85 87 89 91 93 95 97 99 "
     ]
    }
   ],
   "source": [
    "# odd numbers below 100\n",
    "counter = 0\n",
    "while counter<=100:\n",
    "    if counter%2!=0:\n",
    "        print(counter,end=\" \")\n",
    "    counter+=1 # counter = counter+1"
   ]
  },
  {
   "cell_type": "code",
   "execution_count": 6,
   "metadata": {},
   "outputs": [
    {
     "name": "stdout",
     "output_type": "stream",
     "text": [
      "0 2 4 6 8 10 12 14 16 18 20 22 24 26 28 30 32 34 36 38 40 42 44 46 48 50 52 54 56 58 60 62 64 66 68 70 72 74 76 78 80 82 84 86 88 90 92 94 96 98 100 "
     ]
    }
   ],
   "source": [
    "# even numbers below 100\n",
    "counter = 0\n",
    "while counter<=100:\n",
    "    print(counter,end=\" \")\n",
    "    counter = counter + 2"
   ]
  },
  {
   "cell_type": "code",
   "execution_count": 7,
   "metadata": {},
   "outputs": [
    {
     "name": "stdout",
     "output_type": "stream",
     "text": [
      "python\n",
      "python\n",
      "c\n",
      "c\n",
      "java\n",
      "java\n",
      "exit\n"
     ]
    }
   ],
   "source": [
    "# write a program to take the input from user and print the input value\n",
    "# if the input value is \"exit\" then stop reading input and end the execution\n",
    "\n",
    "while True:\n",
    "    inp = input()\n",
    "    if inp==\"exit\":\n",
    "        break\n",
    "    else:\n",
    "        print(inp)"
   ]
  },
  {
   "cell_type": "code",
   "execution_count": 8,
   "metadata": {},
   "outputs": [
    {
     "name": "stdout",
     "output_type": "stream",
     "text": [
      "1\n",
      "2\n",
      "4\n",
      "5\n",
      "2\n",
      "9\n",
      "14\n"
     ]
    }
   ],
   "source": [
    "# write a program to take the input from user and add all the inputs\n",
    "# if the input value is 9 then stop reading input and end the execution\n",
    "s = 0\n",
    "while True:\n",
    "    inp = int(input())\n",
    "    if inp==9:\n",
    "        break\n",
    "    else:\n",
    "        s = s+inp\n",
    "print(s)"
   ]
  },
  {
   "cell_type": "code",
   "execution_count": 9,
   "metadata": {},
   "outputs": [
    {
     "name": "stdout",
     "output_type": "stream",
     "text": [
      "2\n",
      "3\n",
      "4\n",
      "0\n",
      "23\n",
      "100\n",
      "552\n"
     ]
    }
   ],
   "source": [
    "# write a program to take the input from user and multiply all the inputs\n",
    "# if the input value is 0 then don't perform multiplication\n",
    "# read the input until user enters 100\n",
    "product = 1\n",
    "while True:\n",
    "    number = int(input())\n",
    "    if number==100:\n",
    "        break # come out of the loop\n",
    "    elif number==0:\n",
    "        continue # dont perform anythin.. just continue with the next iteration\n",
    "    else:\n",
    "        product = product*number\n",
    "print(product)"
   ]
  },
  {
   "cell_type": "markdown",
   "metadata": {},
   "source": [
    "### Loop control statments\n",
    "- break\n",
    "- continue\n",
    "- pass"
   ]
  },
  {
   "cell_type": "markdown",
   "metadata": {},
   "source": [
    "## Functions\n",
    "syntax:\n",
    "\n",
    "```python\n",
    "def funtion_name(args):\n",
    "    statements\n",
    "    return\n",
    "```\n",
    "## Types of Functions\n",
    "- funtion with arguments with return value\n",
    "- funtion with arguments without return value\n",
    "- function without arguments with return value\n",
    "- function without arguments and without return value"
   ]
  },
  {
   "cell_type": "code",
   "execution_count": 2,
   "metadata": {},
   "outputs": [
    {
     "name": "stdout",
     "output_type": "stream",
     "text": [
      "23\n",
      "False\n"
     ]
    }
   ],
   "source": [
    "# write a function to check whether a given number is divisible by both 2 and 4\n",
    "\n",
    "#\n",
    "num = int(input())\n",
    "\n",
    "def isDivisible(n):\n",
    "    if n%2==0 and n%4==0:\n",
    "        return True\n",
    "    else:\n",
    "        return False\n",
    "    \n",
    "print(isDivisible(num))"
   ]
  },
  {
   "cell_type": "code",
   "execution_count": 9,
   "metadata": {},
   "outputs": [
    {
     "name": "stdout",
     "output_type": "stream",
     "text": [
      "23\n",
      "3\n",
      "26\n"
     ]
    }
   ],
   "source": [
    "# funtion with arguments with return value\n",
    "def addition(num1,num2):\n",
    "    return num1+num2\n",
    "\n",
    "a = int(input())\n",
    "b = int(input())\n",
    "result = addition(a,b)\n",
    "print(result)"
   ]
  },
  {
   "cell_type": "code",
   "execution_count": 11,
   "metadata": {},
   "outputs": [
    {
     "name": "stdout",
     "output_type": "stream",
     "text": [
      "23\n",
      "False\n",
      "None\n"
     ]
    }
   ],
   "source": [
    "# funtion with arguments without return value\n",
    "num = int(input())\n",
    "\n",
    "def isDivisible(n):\n",
    "    if n%2==0 and n%4==0:\n",
    "        print(True)\n",
    "    else:\n",
    "        print(False)\n",
    "    \n",
    "result = isDivisible(num)\n",
    "print(result)"
   ]
  },
  {
   "cell_type": "code",
   "execution_count": 13,
   "metadata": {},
   "outputs": [
    {
     "name": "stdout",
     "output_type": "stream",
     "text": [
      "-90\n"
     ]
    },
    {
     "data": {
      "text/plain": [
       "'Negative'"
      ]
     },
     "execution_count": 13,
     "metadata": {},
     "output_type": "execute_result"
    }
   ],
   "source": [
    "# function without arguments with return value\n",
    "def readInput():\n",
    "    inp = int(input())\n",
    "    if inp>0:\n",
    "        result = \"Positive\"\n",
    "    else:\n",
    "        result = \"Negative\"\n",
    "    return result\n",
    "\n",
    "readInput()"
   ]
  },
  {
   "cell_type": "code",
   "execution_count": null,
   "metadata": {},
   "outputs": [],
   "source": []
  }
 ],
 "metadata": {
  "kernelspec": {
   "display_name": "Python 3",
   "language": "python",
   "name": "python3"
  },
  "language_info": {
   "codemirror_mode": {
    "name": "ipython",
    "version": 3
   },
   "file_extension": ".py",
   "mimetype": "text/x-python",
   "name": "python",
   "nbconvert_exporter": "python",
   "pygments_lexer": "ipython3",
   "version": "3.6.8"
  }
 },
 "nbformat": 4,
 "nbformat_minor": 4
}
